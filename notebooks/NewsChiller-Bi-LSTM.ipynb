{
 "cells": [
  {
   "cell_type": "code",
   "execution_count": 83,
   "metadata": {},
   "outputs": [
    {
     "name": "stdout",
     "output_type": "stream",
     "text": [
      "Glove loaded.\n",
      "Success: Data loaded into dataframe.\n"
     ]
    }
   ],
   "source": [
    "import re, sys, math, json, os, urllib.request\n",
    "import numpy as np                                \n",
    "import pandas as pd                               \n",
    "import matplotlib.pyplot as plt                   \n",
    "from IPython.display import Image                 \n",
    "from IPython.display import display               \n",
    "from time import gmtime, strftime                 \n",
    "\n",
    "#Load data and Glove embeddings\n",
    "try:\n",
    "  model_data = pd.read_json('data.json',\n",
    "                        lines=True,\n",
    "                        orient='columns')\n",
    "  glove_file = open('glove.6B.100d.txt', encoding = \"utf8\")\n",
    "  print('Glove loaded.')\n",
    "  print('Success: Data loaded into dataframe.')\n",
    "except Exception as e:\n",
    "    print('Data load error: ',e)"
   ]
  },
  {
   "cell_type": "code",
   "execution_count": 84,
   "metadata": {},
   "outputs": [
    {
     "data": {
      "text/html": [
       "<div>\n",
       "<style scoped>\n",
       "    .dataframe tbody tr th:only-of-type {\n",
       "        vertical-align: middle;\n",
       "    }\n",
       "\n",
       "    .dataframe tbody tr th {\n",
       "        vertical-align: top;\n",
       "    }\n",
       "\n",
       "    .dataframe thead th {\n",
       "        text-align: right;\n",
       "    }\n",
       "</style>\n",
       "<table border=\"1\" class=\"dataframe\">\n",
       "  <thead>\n",
       "    <tr style=\"text-align: right;\">\n",
       "      <th></th>\n",
       "      <th>content</th>\n",
       "      <th>annotation</th>\n",
       "      <th>extras</th>\n",
       "      <th>metadata</th>\n",
       "    </tr>\n",
       "  </thead>\n",
       "  <tbody>\n",
       "    <tr>\n",
       "      <td>0</td>\n",
       "      <td>an,title</td>\n",
       "      <td>{'labels': ['N/A'], 'note': ''}</td>\n",
       "      <td>NaN</td>\n",
       "      <td>{'first_done_at': 1529677325000, 'last_updated...</td>\n",
       "    </tr>\n",
       "    <tr>\n",
       "      <td>1</td>\n",
       "      <td>STARKY0020180125ee1o0001i,Raila has crossed th...</td>\n",
       "      <td>{'labels': ['N/A'], 'note': ''}</td>\n",
       "      <td>NaN</td>\n",
       "      <td>{'first_done_at': 1529758904000, 'last_updated...</td>\n",
       "    </tr>\n",
       "    <tr>\n",
       "      <td>2</td>\n",
       "      <td>MTPW000020180409ee4900899,Political risk remai...</td>\n",
       "      <td>{'labels': ['N/A'], 'note': ''}</td>\n",
       "      <td>NaN</td>\n",
       "      <td>{'first_done_at': 1529688087000, 'last_updated...</td>\n",
       "    </tr>\n",
       "    <tr>\n",
       "      <td>3</td>\n",
       "      <td>AFNWS00020171114edbe0018o,You Can Still Have Y...</td>\n",
       "      <td>{'labels': ['N/A'], 'note': ''}</td>\n",
       "      <td>NaN</td>\n",
       "      <td>{'first_done_at': 1529587470000, 'last_updated...</td>\n",
       "    </tr>\n",
       "    <tr>\n",
       "      <td>4</td>\n",
       "      <td>JMATH00020171219edcj0008f,Fuzzy Logic; Studies...</td>\n",
       "      <td>{'labels': ['N/A'], 'note': ''}</td>\n",
       "      <td>NaN</td>\n",
       "      <td>{'first_done_at': 1529659936000, 'last_updated...</td>\n",
       "    </tr>\n",
       "    <tr>\n",
       "      <td>...</td>\n",
       "      <td>...</td>\n",
       "      <td>...</td>\n",
       "      <td>...</td>\n",
       "      <td>...</td>\n",
       "    </tr>\n",
       "    <tr>\n",
       "      <td>14450</td>\n",
       "      <td>DALYIG0020171214edce000jw,\"Nigeria Spends N43t...</td>\n",
       "      <td>{'labels': ['Not Distress'], 'note': ''}</td>\n",
       "      <td>NaN</td>\n",
       "      <td>{'first_done_at': 1529646472000, 'last_updated...</td>\n",
       "    </tr>\n",
       "    <tr>\n",
       "      <td>14451</td>\n",
       "      <td>SNLMMDW020171214edcd0000b,Intrepid Mines selli...</td>\n",
       "      <td>{'labels': ['Not Distress'], 'note': ''}</td>\n",
       "      <td>NaN</td>\n",
       "      <td>{'first_done_at': 1529670790000, 'last_updated...</td>\n",
       "    </tr>\n",
       "    <tr>\n",
       "      <td>14452</td>\n",
       "      <td>DJDN000020171211edcb001dd,Global Commodities R...</td>\n",
       "      <td>{'labels': ['Not Distress'], 'note': ''}</td>\n",
       "      <td>NaN</td>\n",
       "      <td>{'first_done_at': 1529669474000, 'last_updated...</td>\n",
       "    </tr>\n",
       "    <tr>\n",
       "      <td>14453</td>\n",
       "      <td>BUSIDA0020180403ee4300003,\"Equity, Stanbic top...</td>\n",
       "      <td>{'labels': ['Not Distress'], 'note': ''}</td>\n",
       "      <td>NaN</td>\n",
       "      <td>{'first_done_at': 1529601535000, 'last_updated...</td>\n",
       "    </tr>\n",
       "    <tr>\n",
       "      <td>14454</td>\n",
       "      <td>ICROWDN020180226ee2q0008f,\"Solar Glass Market ...</td>\n",
       "      <td>{'labels': ['Not Distress'], 'note': ''}</td>\n",
       "      <td>NaN</td>\n",
       "      <td>{'first_done_at': 1529589340000, 'last_updated...</td>\n",
       "    </tr>\n",
       "  </tbody>\n",
       "</table>\n",
       "<p>14455 rows × 4 columns</p>\n",
       "</div>"
      ],
      "text/plain": [
       "                                                 content  \\\n",
       "0                                               an,title   \n",
       "1      STARKY0020180125ee1o0001i,Raila has crossed th...   \n",
       "2      MTPW000020180409ee4900899,Political risk remai...   \n",
       "3      AFNWS00020171114edbe0018o,You Can Still Have Y...   \n",
       "4      JMATH00020171219edcj0008f,Fuzzy Logic; Studies...   \n",
       "...                                                  ...   \n",
       "14450  DALYIG0020171214edce000jw,\"Nigeria Spends N43t...   \n",
       "14451  SNLMMDW020171214edcd0000b,Intrepid Mines selli...   \n",
       "14452  DJDN000020171211edcb001dd,Global Commodities R...   \n",
       "14453  BUSIDA0020180403ee4300003,\"Equity, Stanbic top...   \n",
       "14454  ICROWDN020180226ee2q0008f,\"Solar Glass Market ...   \n",
       "\n",
       "                                     annotation  extras  \\\n",
       "0               {'labels': ['N/A'], 'note': ''}     NaN   \n",
       "1               {'labels': ['N/A'], 'note': ''}     NaN   \n",
       "2               {'labels': ['N/A'], 'note': ''}     NaN   \n",
       "3               {'labels': ['N/A'], 'note': ''}     NaN   \n",
       "4               {'labels': ['N/A'], 'note': ''}     NaN   \n",
       "...                                         ...     ...   \n",
       "14450  {'labels': ['Not Distress'], 'note': ''}     NaN   \n",
       "14451  {'labels': ['Not Distress'], 'note': ''}     NaN   \n",
       "14452  {'labels': ['Not Distress'], 'note': ''}     NaN   \n",
       "14453  {'labels': ['Not Distress'], 'note': ''}     NaN   \n",
       "14454  {'labels': ['Not Distress'], 'note': ''}     NaN   \n",
       "\n",
       "                                                metadata  \n",
       "0      {'first_done_at': 1529677325000, 'last_updated...  \n",
       "1      {'first_done_at': 1529758904000, 'last_updated...  \n",
       "2      {'first_done_at': 1529688087000, 'last_updated...  \n",
       "3      {'first_done_at': 1529587470000, 'last_updated...  \n",
       "4      {'first_done_at': 1529659936000, 'last_updated...  \n",
       "...                                                  ...  \n",
       "14450  {'first_done_at': 1529646472000, 'last_updated...  \n",
       "14451  {'first_done_at': 1529670790000, 'last_updated...  \n",
       "14452  {'first_done_at': 1529669474000, 'last_updated...  \n",
       "14453  {'first_done_at': 1529601535000, 'last_updated...  \n",
       "14454  {'first_done_at': 1529589340000, 'last_updated...  \n",
       "\n",
       "[14455 rows x 4 columns]"
      ]
     },
     "execution_count": 84,
     "metadata": {},
     "output_type": "execute_result"
    }
   ],
   "source": [
    "raw_data = model_data\n",
    "raw_data"
   ]
  },
  {
   "cell_type": "code",
   "execution_count": 85,
   "metadata": {},
   "outputs": [],
   "source": [
    "import pandas as pd\n",
    "import numpy as np\n",
    "import re\n",
    "import nltk\n",
    "from nltk.corpus import stopwords\n",
    "import keras\n",
    "from numpy import array\n",
    "from keras.preprocessing.text import one_hot\n",
    "from keras.preprocessing.sequence import pad_sequences\n",
    "from keras.models import Sequential\n",
    "from keras.layers.core import Activation, Dropout, Dense\n",
    "from keras.layers import Flatten, LSTM\n",
    "from keras.layers import GlobalMaxPooling1D\n",
    "from keras.layers.embeddings import Embedding\n",
    "from sklearn.model_selection import train_test_split\n",
    "from keras.preprocessing.text import Tokenizer"
   ]
  },
  {
   "cell_type": "code",
   "execution_count": 86,
   "metadata": {},
   "outputs": [
    {
     "data": {
      "text/plain": [
       "array([[0, 0, 1],\n",
       "       [0, 0, 1],\n",
       "       [0, 0, 1],\n",
       "       ...,\n",
       "       [0, 1, 0],\n",
       "       [0, 1, 0],\n",
       "       [0, 1, 0]])"
      ]
     },
     "execution_count": 86,
     "metadata": {},
     "output_type": "execute_result"
    }
   ],
   "source": [
    "import seaborn as sns\n",
    "\n",
    "import re\n",
    "from sklearn.model_selection import train_test_split\n",
    "from string import punctuation\n",
    "from collections import Counter\n",
    "import numpy as np\n",
    "\n",
    "def pad_dict_list(dict_list, padel):\n",
    "    #padding words in the list\n",
    "    lmax = 0\n",
    "    length = len(dict_list)\n",
    "    for lname in dict_list:\n",
    "        lmax = max(lmax, len(lname))\n",
    "    for i in range(0, length):\n",
    "        ll = len(dict_list[i])\n",
    "        if ll < lmax:\n",
    "            dict_list[i].append(padel)   \n",
    "    return dict_list\n",
    "\n",
    "def preprocess_text(sen):\n",
    "    # Removing html tags\n",
    "    sentence = remove_tags(sen)\n",
    "    # Removing punctuation\n",
    "    sentence = re.sub('[^a-zA-Z]', ' ', sentence)\n",
    "    # Removing single characters\n",
    "    sentence = re.sub(r\"\\s+[a-zA-Z]\\s+\", ' ', sentence)\n",
    "    # Removing multiple spaces\n",
    "    sentence = re.sub(r'\\s+', ' ', sentence)\n",
    "    return sentence\n",
    "\n",
    "TAG = re.compile(r'<[^>]+>')\n",
    "\n",
    "def remove_tags(text):\n",
    "    #Removing tags - the original function\n",
    "    return TAG.sub('', text)\n",
    "\n",
    "#Getting the title and removing metadata\n",
    "titles = [re.split(\"^(.+?),\", title)[-1] for title in raw_data.content]\n",
    "#Preprocessing every title\n",
    "X = []\n",
    "for sen in titles:\n",
    "    X.append(preprocess_text(sen))\n",
    "#Converting the letters in the titles to lower\n",
    "titles = [title.lower() for title in X]\n",
    "#Joining not punctuation\n",
    "titles = [''.join([c for c in title if c not in punctuation]) for title in titles]\n",
    "\n",
    "#Removing the extra titles that do not have any labels prescribed\n",
    "labels = [md['labels'] for md in raw_data.annotation]\n",
    "labels2 = []\n",
    "for i in range(0, len(labels)):\n",
    "    if i:\n",
    "        labels2.append(labels[i])\n",
    "    else:\n",
    "        titles.pop(i)\n",
    "labels = labels2\n",
    "\n",
    "#One-hot encoding labels\n",
    "distressed_labels = []\n",
    "not_distressed_labels = []\n",
    "na_labels = []\n",
    "\n",
    "for label in labels:\n",
    "    if \"Distress\" in label:\n",
    "        distressed_labels.append(1)\n",
    "    else:\n",
    "        distressed_labels.append(0)\n",
    "        \n",
    "    if \"Not Distress\" in label: \n",
    "        not_distressed_labels.append(1)\n",
    "    else:\n",
    "        not_distressed_labels.append(0)\n",
    "        \n",
    "    if \"N/A\" in label:\n",
    "        na_labels.append(1)\n",
    "    else:\n",
    "        na_labels.append(0)\n",
    "\n",
    "#Converting encoded labels to a numpy array\n",
    "encoded_labels = np.array(np.column_stack((distressed_labels, not_distressed_labels, na_labels)))\n",
    "#Converting labels and titles to train and test sets\n",
    "X_train, X_test, y_train, y_test = train_test_split(titles, encoded_labels, test_size=0.20, random_state=42)"
   ]
  },
  {
   "cell_type": "code",
   "execution_count": 87,
   "metadata": {},
   "outputs": [],
   "source": [
    "#Tokenizing both the training and testing sets\n",
    "tokenizer = Tokenizer(num_words=5000)\n",
    "tokenizer.fit_on_texts(X_train)\n",
    "\n",
    "X_train = tokenizer.texts_to_sequences(X_train)\n",
    "X_test = tokenizer.texts_to_sequences(X_test)"
   ]
  },
  {
   "cell_type": "code",
   "execution_count": 88,
   "metadata": {},
   "outputs": [],
   "source": [
    "#Padding both the training and testing sets\n",
    "max_len = max([len(i) for i in X_train])\n",
    "vocab_size = len(tokenizer.word_index) + 1\n",
    "\n",
    "X_train = pad_sequences(X_train, padding='post', maxlen = max_len)\n",
    "X_test = pad_sequences(X_test, padding='post', maxlen = max_len)"
   ]
  },
  {
   "cell_type": "code",
   "execution_count": 90,
   "metadata": {},
   "outputs": [],
   "source": [
    "from numpy import array\n",
    "from numpy import asarray\n",
    "from numpy import zeros\n",
    "\n",
    "#Preparing the GloVe embeddings\n",
    "embeddings_dictionary = dict()\n",
    "\n",
    "for line in glove_file:\n",
    "    records = line.split()\n",
    "    word = records[0]\n",
    "    vector_dimensions = asarray(records[1:], dtype='float32')\n",
    "    embeddings_dictionary[word] = vector_dimensions\n",
    "glove_file.close()"
   ]
  },
  {
   "cell_type": "code",
   "execution_count": 91,
   "metadata": {},
   "outputs": [],
   "source": [
    "#Embedding every tokenized word\n",
    "embedding_matrix = zeros((vocab_size, 100))\n",
    "for word, index in tokenizer.word_index.items():\n",
    "    embedding_vector = embeddings_dictionary.get(word)\n",
    "    if embedding_vector is not None:\n",
    "        embedding_matrix[index] = embedding_vector"
   ]
  },
  {
   "cell_type": "code",
   "execution_count": 92,
   "metadata": {},
   "outputs": [],
   "source": [
    "from numpy import array\n",
    "from keras.preprocessing.text import one_hot\n",
    "from keras.preprocessing.sequence import pad_sequences\n",
    "from keras.models import Sequential\n",
    "from keras.layers.core import Activation, Dropout, Dense\n",
    "from keras.layers import Flatten, LSTM\n",
    "from keras.layers import GlobalMaxPooling1D\n",
    "from keras.models import Model\n",
    "from keras.layers.embeddings import Embedding\n",
    "from sklearn.model_selection import train_test_split\n",
    "from keras.preprocessing.text import Tokenizer\n",
    "from keras.layers import Input\n",
    "from keras.layers.merge import Concatenate\n",
    "\n",
    "import pandas as pd\n",
    "import numpy as np\n",
    "import re\n",
    "import matplotlib.pyplot as plt\n",
    "\n",
    "#Preparing the model\n",
    "deep_inputs = Input(shape=(max_len,))\n",
    "embedding_layer = Embedding(vocab_size, 100, weights = [embedding_matrix], trainable= False)(deep_inputs)\n",
    "LSTM_Layer_1 = LSTM(128)(embedding_layer)\n",
    "dense_layer_1 = Dense(3, activation='sigmoid')(LSTM_Layer_1)\n",
    "model = Model(inputs=deep_inputs, outputs = dense_layer_1)\n",
    "\n",
    "model.compile(loss='binary_crossentropy', optimizer='adam', metrics=['acc'])"
   ]
  },
  {
   "cell_type": "code",
   "execution_count": 93,
   "metadata": {},
   "outputs": [
    {
     "name": "stdout",
     "output_type": "stream",
     "text": [
      "Model: \"model_5\"\n",
      "_________________________________________________________________\n",
      "Layer (type)                 Output Shape              Param #   \n",
      "=================================================================\n",
      "input_5 (InputLayer)         (None, 42)                0         \n",
      "_________________________________________________________________\n",
      "embedding_5 (Embedding)      (None, 42, 100)           1459700   \n",
      "_________________________________________________________________\n",
      "lstm_5 (LSTM)                (None, 128)               117248    \n",
      "_________________________________________________________________\n",
      "dense_5 (Dense)              (None, 3)                 387       \n",
      "=================================================================\n",
      "Total params: 1,577,335\n",
      "Trainable params: 117,635\n",
      "Non-trainable params: 1,459,700\n",
      "_________________________________________________________________\n",
      "None\n"
     ]
    }
   ],
   "source": [
    "print(model.summary())"
   ]
  },
  {
   "cell_type": "code",
   "execution_count": 100,
   "metadata": {},
   "outputs": [
    {
     "name": "stdout",
     "output_type": "stream",
     "text": [
      "Train on 9250 samples, validate on 2313 samples\n",
      "Epoch 1/5\n",
      "9250/9250 [==============================] - 19s 2ms/step - loss: 0.3295 - acc: 0.8685 - val_loss: 0.4546 - val_acc: 0.8122\n",
      "Epoch 2/5\n",
      "9250/9250 [==============================] - 19s 2ms/step - loss: 0.3220 - acc: 0.8721 - val_loss: 0.4485 - val_acc: 0.8154\n",
      "Epoch 3/5\n",
      "9250/9250 [==============================] - 19s 2ms/step - loss: 0.3119 - acc: 0.8788 - val_loss: 0.4519 - val_acc: 0.8125\n",
      "Epoch 4/5\n",
      "9250/9250 [==============================] - 18s 2ms/step - loss: 0.3043 - acc: 0.8835 - val_loss: 0.4568 - val_acc: 0.8189\n",
      "Epoch 5/5\n",
      "9250/9250 [==============================] - 18s 2ms/step - loss: 0.3019 - acc: 0.8823 - val_loss: 0.4757 - val_acc: 0.8128\n"
     ]
    }
   ],
   "source": [
    "#Training the model\n",
    "history = model.fit(X_train, y_train, batch_size=128, epochs=5, verbose=1, validation_split=0.2)"
   ]
  },
  {
   "cell_type": "code",
   "execution_count": 101,
   "metadata": {},
   "outputs": [
    {
     "name": "stdout",
     "output_type": "stream",
     "text": [
      "2891/2891 [==============================] - 3s 1ms/step\n",
      "Test Score: 0.4743749931150553\n",
      "Test Accuracy: 0.8149429559707642\n"
     ]
    }
   ],
   "source": [
    "#Evaluating the model\n",
    "score = model.evaluate(X_test, y_test, verbose=1)\n",
    "\n",
    "print(\"Test Score:\", score[0])\n",
    "print(\"Test Accuracy:\", score[1])"
   ]
  },
  {
   "cell_type": "code",
   "execution_count": 79,
   "metadata": {},
   "outputs": [],
   "source": [
    "#Saving the model\n",
    "model.save('models819.h5')"
   ]
  },
  {
   "cell_type": "code",
   "execution_count": 80,
   "metadata": {},
   "outputs": [],
   "source": [
    "import pickle\n",
    " \n",
    "#Pickling the model to check serialization\n",
    "with open('tokenizer819.pickle', 'wb') as handle:\n",
    "    pickle.dump(tokenizer, handle, protocol=pickle.HIGHEST_PROTOCOL)"
   ]
  },
  {
   "cell_type": "code",
   "execution_count": 72,
   "metadata": {},
   "outputs": [
    {
     "name": "stdout",
     "output_type": "stream",
     "text": [
      "Model: \"model_4\"\n",
      "_________________________________________________________________\n",
      "Layer (type)                 Output Shape              Param #   \n",
      "=================================================================\n",
      "input_4 (InputLayer)         (None, 42)                0         \n",
      "_________________________________________________________________\n",
      "embedding_4 (Embedding)      (None, 42, 100)           1459700   \n",
      "_________________________________________________________________\n",
      "lstm_4 (LSTM)                (None, 128)               117248    \n",
      "_________________________________________________________________\n",
      "dense_4 (Dense)              (None, 3)                 387       \n",
      "=================================================================\n",
      "Total params: 1,577,335\n",
      "Trainable params: 117,635\n",
      "Non-trainable params: 1,459,700\n",
      "_________________________________________________________________\n"
     ]
    }
   ],
   "source": [
    "from numpy import loadtxt\n",
    "from keras.models import load_model\n",
    " \n",
    "#Loading model\n",
    "loaded_model = load_model('models2.h5')\n",
    "loaded_model.summary()"
   ]
  },
  {
   "cell_type": "code",
   "execution_count": 73,
   "metadata": {},
   "outputs": [
    {
     "name": "stdout",
     "output_type": "stream",
     "text": [
      "2891/2891 [==============================] - 3s 1ms/step\n",
      "Test Score: 0.4446553155774684\n",
      "Test Accuracy: 0.810792088508606\n"
     ]
    }
   ],
   "source": [
    "score = loaded_model.evaluate(X_test, y_test, verbose=1)\n",
    "\n",
    "print(\"Test Score:\", score[0])\n",
    "print(\"Test Accuracy:\", score[1])"
   ]
  },
  {
   "cell_type": "code",
   "execution_count": 74,
   "metadata": {},
   "outputs": [
    {
     "name": "stdout",
     "output_type": "stream",
     "text": [
      "[[0.7353454  0.3868029  0.77360183]]\n"
     ]
    }
   ],
   "source": [
    "#Checking the predictions\n",
    "with open('tokenizer.pickle', 'rb') as handle:\n",
    "    loaded_tokenizer = pickle.load(handle)\n",
    "txt=\"House of Representatives Investigate Arcelor Mittal Bad Labor Practices Allegation\"\n",
    "seq= loaded_tokenizer.texts_to_sequences([txt])\n",
    "padded = pad_sequences(seq, maxlen=max_len)\n",
    "pred = loaded_model.predict(padded)\n",
    "pred"
   ]
  },
  {
   "cell_type": "code",
   "execution_count": 76,
   "metadata": {},
   "outputs": [
    {
     "data": {
      "image/png": "[encoded data removed]",
      "text/plain": [
       "<Figure size 432x288 with 1 Axes>"
      ]
     },
     "metadata": {
      "needs_background": "light"
     },
     "output_type": "display_data"
    },
    {
     "data": {
      "image/png": "[encoded data removed]",
      "text/plain": [
       "<Figure size 432x288 with 1 Axes>"
      ]
     },
     "metadata": {
      "needs_background": "light"
     },
     "output_type": "display_data"
    }
   ],
   "source": [
    "import matplotlib.pyplot as plt\n",
    "\n",
    "#Analyzing model accuracy and loss\n",
    "plt.plot(history.history['acc'])\n",
    "plt.plot(history.history['val_acc'])\n",
    "\n",
    "plt.title('model accuracy')\n",
    "plt.ylabel('accuracy')\n",
    "plt.xlabel('epoch')\n",
    "plt.legend(['train','test'], loc='upper left')\n",
    "plt.show()\n",
    "\n",
    "plt.plot(history.history['loss'])\n",
    "plt.plot(history.history['val_loss'])\n",
    "\n",
    "plt.title('model loss')\n",
    "plt.ylabel('loss')\n",
    "plt.xlabel('epoch')\n",
    "plt.legend(['train','test'], loc='upper left')\n",
    "plt.show()"
   ]
  },
  {
   "cell_type": "code",
   "execution_count": null,
   "metadata": {},
   "outputs": [],
   "source": [
    "#A short implementation of the zero rule algorithm to use as a benchmark\n",
    "import numpy as np\n",
    "from sklearn.metrics import label_ranking_average_precision_score\n",
    "\n",
    "def zero_rule_algorithm(train_df, eval_df):\n",
    "    outputs = [tuple(t) for t in train_df]\n",
    "    most_common = max(outputs, key = outputs.count)\n",
    "    return [most_common for i in range(len(eval_df))]\n",
    "    \n",
    "predictions = zero_rule_algorithm(y_train, y_test)\n",
    "values = [tuple(i) for i in y_test]\n",
    "label_ranking_average_precision_score(values, predictions)"
   ]
  }
 ],
 "metadata": {
  "kernelspec": {
   "display_name": "Python [conda env:root] *",
   "language": "python",
   "name": "conda-root-py"
  },
  "language_info": {
   "codemirror_mode": {
    "name": "ipython",
    "version": 3
   },
   "file_extension": ".py",
   "mimetype": "text/x-python",
   "name": "python",
   "nbconvert_exporter": "python",
   "pygments_lexer": "ipython3",
   "version": "3.7.3"
  }
 },
 "nbformat": 4,
 "nbformat_minor": 2
}
